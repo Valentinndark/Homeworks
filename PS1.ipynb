{
 "cells": [
  {
   "cell_type": "markdown",
   "metadata": {},
   "source": [
    "# Homework Assignment 1: Basic Python\n",
    "\n",
    "In this homework, we will review basic properties of python, specifically loops, conditionals, functions, and basic data structures.\n",
    "\n",
    "Homework Guidelines:\n",
    "\n",
    "1) Document your code! Only part of your score on the homework will be if you get the \"right\" answer. In order for us to understand what you've written, you need to have clearly written code. Documenting your code with comments (# sign) and spacing out your code (but not too much) makes it easier to read. You should also make use of the markdown feature of ipython notebooks for longer explanations or to imbed pictures/formulas. \n",
    "\n",
    "2) You may google around for tools for solving the homework problems (StackExchange will often pop up!) but DO NOT google the exact problem statement or copy blocks of code from elsewhere.\n",
    "\n",
    "3) You can work in small groups to complete assignments and share code within the small group. Please specify who you worked with if your submitted solutions are similar/identical.\n",
    "\n",
    "4) Various python packages have built in routines for common programming tasks. If you want to use an external (i.e. import X) package which isn't imported in the problem statement please ask the instructor first.\n",
    "\n",
    "5) Some problem statements might be vague or unspecific (like \"Explore the relationship between X and Y\"), just like real research questions! When in doubt it would be useful to provide plots and your observations."
   ]
  },
  {
   "cell_type": "code",
   "execution_count": null,
   "metadata": {},
   "outputs": [],
   "source": [
    "# My name is wenbo yu, incase registraton is needed"
   ]
  },
  {
   "cell_type": "markdown",
   "metadata": {},
   "source": [
    "# Problem 0: Precourse Survey (0 points)\n",
    "\n",
    "If you have not already done so, please complete the pre-course survey availabe here:\n",
    "    https://forms.gle/n7FEdGT8tW9JNhog6"
   ]
  },
  {
   "cell_type": "markdown",
   "metadata": {},
   "source": [
    "# Problem 1: Using git (5 points)\n",
    "\n",
    "Over the course of this homework assignment, make at least 4 commits with informative commit messages. Remember that we can see the messages!"
   ]
  },
  {
   "cell_type": "markdown",
   "metadata": {},
   "source": [
    "# Problem 2: Largest Prime Factor (15 points)\n",
    "\n",
    "The prime factors of a number are the list of prime numbers who's product is equal to that number. I.e. 728 -> 2 2 2 7 13.\n",
    "\n",
    "a) Write a function which lists the prime factors of a number.\n",
    "\n",
    "b) What is the largest prime factor of 10,030,508,582,493?"
   ]
  },
  {
   "cell_type": "code",
   "execution_count": 16,
   "metadata": {},
   "outputs": [],
   "source": [
    "def PrimeFactor(n):\n",
    "    i=2\n",
    "    while i<=n:\n",
    "        if n%i==0 :\n",
    "            n=n/i\n",
    "            print(i)           #List Prime factor\n",
    "            LargestFactor=i    #Storge Largest Prime factor(the last factor must be the largest one, for all smaller one must have been dicided)\n",
    "            i=2                #Reset i for next next loop\n",
    "        else:\n",
    "            i=i+1              #Continue loop\n",
    "    print ('The largest factor is ',LargestFactor)  \n",
    "#Can't calculate very large numbers like 990124489129084981294091249081897412094712423, which will come across some problems like \n",
    "#     Exceeding the floating point limit(Perhaps,google does't know for sure),which will generate results like \n",
    "#     990124489129084981294091249081897412094712423 is divisible by two , which is obviously wrong."
   ]
  },
  {
   "cell_type": "code",
   "execution_count": 2,
   "metadata": {},
   "outputs": [
    {
     "name": "stdout",
     "output_type": "stream",
     "text": [
      "3\n",
      "7\n",
      "7789\n",
      "7789\n",
      "7873\n",
      "The largest factor is  7873\n"
     ]
    }
   ],
   "source": [
    "PrimeFactor(10030508582493)"
   ]
  },
  {
   "cell_type": "code",
   "execution_count": 3,
   "metadata": {},
   "outputs": [],
   "source": [
    "## solution: 3*7*7789*7789*7873\n"
   ]
  },
  {
   "cell_type": "markdown",
   "metadata": {},
   "source": [
    "# Problem 3: Division of Factorial Recursive Calculator (15 points)\n",
    "\n",
    "A common mathematical calculation that emerges in the field of combinatorics is the ratio of a two factorials, i.e.\n",
    "$$ \\frac{a!}{b!} = \\frac{a!}{(a-n)!}$$.\n",
    "\n",
    "a) Write a recursive program which will calculate this ratio for a given positive integer $a$ and $n$ (where $n<a$). Remember that a recursive function must call itself if a condition isn't met.\n",
    "\n",
    "b) What is the value for $a=10000$ and $n=13$?\n",
    "\n",
    "c) What is the value for $a=89$ and $n=40$?"
   ]
  },
  {
   "cell_type": "code",
   "execution_count": 4,
   "metadata": {},
   "outputs": [],
   "source": [
    "def ratio(a,n):\n",
    "    if (isinstance(a,int) and isinstance(n,int)): #Check input datatype and condition(n<a) \n",
    "        if a<=n:\n",
    "            return 'Invalid Input'   #If condition doesn't met\n",
    "        else:\n",
    "            for i in (1,a):\n",
    "                i*=i                 #Calcualte a!\n",
    "            for j in (1,(a-n)):\n",
    "                j*=j                 #Calculate (a-n)!\n",
    "    else:\n",
    "        return 'Invalid Datatype'    #If datatype isn't integer\n",
    "    print (i/j)                      #Calculate final result"
   ]
  },
  {
   "cell_type": "code",
   "execution_count": 5,
   "metadata": {},
   "outputs": [
    {
     "name": "stdout",
     "output_type": "stream",
     "text": [
      "1.0026050788023029\n"
     ]
    }
   ],
   "source": [
    "ratio(10000,13)"
   ]
  },
  {
   "cell_type": "code",
   "execution_count": 6,
   "metadata": {},
   "outputs": [
    {
     "name": "stdout",
     "output_type": "stream",
     "text": [
      "3.299042065805914\n"
     ]
    }
   ],
   "source": [
    "ratio(89,40)"
   ]
  },
  {
   "cell_type": "markdown",
   "metadata": {},
   "source": [
    "# Problem 4: Largest Palindrome (15 points)\n",
    "\n",
    "\n",
    "A palindrome remains identical when its characters are reversed order. For example, 101 is a palindrome, as is 9339, and 1029201, and 165090561. All of these numbers, when read in reversed order, remain unchanged. In this problem, we will search for the largest palindrome that is also a product of two numbers. For example, the largest palindrome made from the product of two 2-digit numbers is 9009 = 91 × 99.\n",
    "\n",
    "a) What is the largest palidrome that comes from the product of three 2-digit numbers?\n",
    "\n",
    "b) What is the largest palidrome that comes from the product of two 3-digit numbers?"
   ]
  },
  {
   "cell_type": "code",
   "execution_count": 7,
   "metadata": {},
   "outputs": [],
   "source": [
    "def Ispalidrome(n):\n",
    "    Str=[]\n",
    "    Str=list(str(n))                    #Convert Integer into list\n",
    "    for i in range(0,len(Str)-1):\n",
    "        if Str[i]==Str[len(Str)-i-1]:   #In palidrome, numbers at place i equals to number at place n-i\n",
    "            pass\n",
    "        else:\n",
    "            return False\n",
    "    return True\n",
    "#Define a function to Verify if n is a palidrome"
   ]
  },
  {
   "cell_type": "code",
   "execution_count": 8,
   "metadata": {},
   "outputs": [
    {
     "name": "stdout",
     "output_type": "stream",
     "text": [
      "(87, '*', 88, '*', 91, '=') 696696\n"
     ]
    }
   ],
   "source": [
    "Pali={}                                   #Initilize a dict in order to find max value and 2-digit numbers that this value comes from\n",
    "for i in range(10,99):\n",
    "    for j in range(10,99):\n",
    "        for k in range(10,99):\n",
    "            if Ispalidrome(i*j*k):\n",
    "                Pali[i,'*',j,'*',k,'=']=i*j*k             #Storge every palidrome in a dict \n",
    "            else:\n",
    "                pass\n",
    "#Travel through all possible 2-digit products to find max palidrome\n",
    "print (max(Pali,key=Pali.get),max(Pali.values()))          #Print max value and its key"
   ]
  },
  {
   "cell_type": "code",
   "execution_count": 13,
   "metadata": {},
   "outputs": [
    {
     "name": "stdout",
     "output_type": "stream",
     "text": [
      "(913, '*', 993, '=') 906609\n"
     ]
    }
   ],
   "source": [
    "Pali={}\n",
    "for i in range(100,999):\n",
    "    for j in range(100,999):\n",
    "        if Ispalidrome(i*j):                             #Find if this product is palidrome\n",
    "            Pali[i,'*',j,'=']=i*j                        #Storge every palidrome and its key\n",
    "        else:\n",
    "            pass\n",
    "#Travel through all possible 3-digit products to find max palidrome\n",
    "print (max(Pali,key=Pali.get),max(Pali.values()))        #Print max value and its key       "
   ]
  }
 ],
 "metadata": {
  "kernelspec": {
   "display_name": "Python 3",
   "language": "python",
   "name": "python3"
  },
  "language_info": {
   "codemirror_mode": {
    "name": "ipython",
    "version": 3
   },
   "file_extension": ".py",
   "mimetype": "text/x-python",
   "name": "python",
   "nbconvert_exporter": "python",
   "pygments_lexer": "ipython3",
   "version": "3.7.1"
  }
 },
 "nbformat": 4,
 "nbformat_minor": 2
}
